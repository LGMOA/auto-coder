{
 "cells": [
  {
   "cell_type": "code",
   "execution_count": null,
   "metadata": {},
   "outputs": [],
   "source": [
    "import os\n",
    "from pathlib import Path\n",
    "from autocoder.common.files import read_file\n",
    "import byzerllm\n",
    "\n",
    "# 初始化大模型\n",
    "llm = byzerllm.ByzerLLM.from_default_model(model=\"deepseek_chat\")"
   ]
  },
  {
   "cell_type": "code",
   "execution_count": null,
   "metadata": {},
   "outputs": [],
   "source": [
    "@byzerllm.prompt(llm=llm)\n",
    "def detect_windows_encoding_issues(code: str) -> bool:\n",
    "    \"\"\"\n",
    "    分析以下Python代码是否存在不兼容Windows的编码问题：\n",
    "    \n",
    "    {{ code }}\n",
    "    \n",
    "    请检查以下方面：\n",
    "    1. 是否使用了不指定编码的open()操作\n",
    "    2. 是否使用了不兼容Windows的编码（如utf-8-mb4）\n",
    "    3. 是否存在可能导致Windows路径处理问题的代码\n",
    "    \n",
    "    如果存在以上问题，返回True，否则返回False\n",
    "    \"\"\""
   ]
  },
  {
   "cell_type": "code",
   "execution_count": null,
   "metadata": {},
   "outputs": [],
   "source": [
    "def check_directory(directory: str):\n",
    "    \"\"\"检查目录下所有.py文件的Windows编码兼容性\"\"\"\n",
    "    issues = []\n",
    "    \n",
    "    for root, _, files in os.walk(directory):\n",
    "        for file in files:\n",
    "            if file.endswith('.py'):\n",
    "                file_path = Path(root) / file\n",
    "                try:\n",
    "                    content = read_file(str(file_path))\n",
    "                    if detect_windows_encoding_issues(content):\n",
    "                        issues.append(str(file_path))\n",
    "                except Exception as e:\n",
    "                    print(f\"Error reading {file_path}: {str(e)}\")\n",
    "    \n",
    "    return issues"
   ]
  },
  {
   "cell_type": "code",
   "execution_count": null,
   "metadata": {},
   "outputs": [],
   "source": [
    "# 使用示例\n",
    "directory_to_check = \"/path/to/your/code\"  # 修改为你要检查的目录\n",
    "issues = check_directory(directory_to_check)\n",
    "\n",
    "if issues:\n",
    "    print(\"发现以下文件可能存在Windows编码问题：\")\n",
    "    for issue in issues:\n",
    "        print(f\"- {issue}\")\n",
    "else:\n",
    "    print(\"未发现Windows编码问题\")"
   ]
  }
 ],
 "metadata": {
  "kernelspec": {
   "display_name": "Python 3",
   "language": "python",
   "name": "python3"
  },
  "language_info": {
   "codemirror_mode": {
    "name": "ipython",
    "version": 3
   },
   "file_extension": ".py",
   "mimetype": "text/x-python",
   "name": "python",
   "nbconvert_exporter": "python",
   "pygments_lexer": "ipython3",
   "version": "3.9.0"
  }
 },
 "nbformat": 4,
 "nbformat_minor": 2
}