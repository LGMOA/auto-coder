{
 "cells": [
  {
   "cell_type": "markdown",
   "metadata": {},
   "source": [
    "# File Loader Test Notebook\n",
    "\n",
    "This notebook tests the file loading functionality of HttpDoc.crawl_urls() with different file formats."
   ]
  },
  {
   "cell_type": "code",
   "execution_count": null,
   "metadata": {},
   "outputs": [],
   "source": [
    "from autocoder.utils.rest import HttpDoc\n",
    "from byzerllm import ByzerLLM\n",
    "\n",
    "# Initialize HttpDoc with mock LLM\n",
    "http_doc = HttpDoc(args=None, llm=ByzerLLM())"
   ]
  },
  {
   "cell_type": "code",
   "execution_count": null,
   "metadata": {},
   "outputs": [],
   "source": [
    "# Test PDF file\n",
    "pdf_results = http_doc.crawl_urls(urls=[\"test_files/sample.pdf\"])\n",
    "print(\"PDF Results:\")\n",
    "for result in pdf_results:\n",
    "    print(f\"File: {result.module_name}\\nContent: {result.source_code[:200]}...\")"
   ]
  },
  {
   "cell_type": "code",
   "execution_count": null,
   "metadata": {},
   "outputs": [],
   "source": [
    "# Test DOCX file\n",
    "docx_results = http_doc.crawl_urls(urls=[\"test_files/sample.docx\"])\n",
    "print(\"DOCX Results:\")\n",
    "for result in docx_results:\n",
    "    print(f\"File: {result.module_name}\\nContent: {result.source_code[:200]}...\")"
   ]
  },
  {
   "cell_type": "code",
   "execution_count": null,
   "metadata": {},
   "outputs": [],
   "source": [
    "# Test PPTX file\n",
    "pptx_results = http_doc.crawl_urls(urls=[\"test_files/sample.pptx\"])\n",
    "print(\"PPTX Results:\")\n",
    "for result in pptx_results:\n",
    "    print(f\"File: {result.module_name}\\nContent: {result.source_code[:200]}...\")"
   ]
  },
  {
   "cell_type": "code",
   "execution_count": null,
   "metadata": {},
   "outputs": [],
   "source": [
    "# Test Excel file\n",
    "excel_results = http_doc.crawl_urls(urls=[\"test_files/sample.xlsx\"])\n",
    "print(\"Excel Results:\")\n",
    "for result in excel_results:\n",
    "    print(f\"File: {result.module_name}\\nContent: {result.source_code[:200]}...\")"
   ]
  }
 ],
 "metadata": {
  "kernelspec": {
   "display_name": "Python 3",
   "language": "python",
   "name": "python3"
  },
  "language_info": {
   "codemirror_mode": {
    "name": "ipython",
    "version": 3
   },
   "file_extension": ".py",
   "mimetype": "text/x-python",
   "name": "python",
   "nbconvert_exporter": "python",
   "pygments_lexer": "ipython3",
   "version": "3.9.7"
  }
 },
 "nbformat": 4,
 "nbformat_minor": 4
}