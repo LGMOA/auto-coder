{
 "cells": [
  {
   "cell_type": "code",
   "execution_count": 3,
   "metadata": {},
   "outputs": [
    {
     "name": "stdout",
     "output_type": "stream",
     "text": [
      "\n",
      "<_image_>Users/allwefantasy/projects/auto-coder/docs/images/000-01.png</_image_>打击好\n",
      "\n"
     ]
    }
   ],
   "source": [
    "from byzerllm.utils.nontext import Image\n",
    "\n",
    "t = Image.convert_image_paths_from('''\n",
    "<img>/Users/allwefantasy/projects/auto-coder/docs/images/000-01.png</img>这个图片里有啥？\n",
    "''')\n",
    "print(t)"
   ]
  },
  {
   "cell_type": "markdown",
   "metadata": {},
   "source": []
  }
 ],
 "metadata": {
  "kernelspec": {
   "display_name": "byzerllm",
   "language": "python",
   "name": "python3"
  },
  "language_info": {
   "codemirror_mode": {
    "name": "ipython",
    "version": 3
   },
   "file_extension": ".py",
   "mimetype": "text/x-python",
   "name": "python",
   "nbconvert_exporter": "python",
   "pygments_lexer": "ipython3",
   "version": "3.10.11"
  }
 },
 "nbformat": 4,
 "nbformat_minor": 2
}
